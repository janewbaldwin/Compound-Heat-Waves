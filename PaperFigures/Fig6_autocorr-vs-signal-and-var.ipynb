{
 "cells": [
  {
   "cell_type": "code",
   "execution_count": 1,
   "metadata": {
    "collapsed": false
   },
   "outputs": [
    {
     "name": "stdout",
     "output_type": "stream",
     "text": [
      "Once deleted, variables cannot be recovered. Proceed (y/[n])? Y\n"
     ]
    }
   ],
   "source": [
    "reset"
   ]
  },
  {
   "cell_type": "code",
   "execution_count": 2,
   "metadata": {
    "collapsed": true
   },
   "outputs": [],
   "source": [
    "#Import CDO and make sure it works\n",
    "from cdo import *\n",
    "\n",
    "#--Initialize CDO\n",
    "cdo=Cdo()\n",
    "%matplotlib inline\n",
    "\n",
    "#print cdo.operators # query operators\n",
    "\n",
    "import os\n",
    "import matplotlib.pyplot as plt\n",
    "from matplotlib import cm\n",
    "from netCDF4 import Dataset\n",
    "import numpy as np\n",
    "from scipy.interpolate import Rbf\n",
    "import random\n",
    "\n",
    "os.chdir('/vftmp/Jane.Baldwin/STEP/CORRvVAR/')"
   ]
  },
  {
   "cell_type": "code",
   "execution_count": 3,
   "metadata": {
    "collapsed": false
   },
   "outputs": [],
   "source": [
    "#DATA FILES\n",
    "\n",
    "days = {'def1':'3114','def2':'3336','def3':'6217'}\n",
    "\n",
    "#Raw data for analysis\n",
    "cntl_raw = '/ptmp/jwb/RAW/CONTROL/atmos_daily.04010101-04951231.t_ref_min.nc'\n",
    "xco2_raw = '/ptmp/jwb/RAW/2XCO2/atmos_daily.04010101-04951231.t_ref_min.nc'\n",
    "cntl_ann = '/ptmp/jwb/RAW/CONTROL/atmos.0401-0500.t_ref_min.nc'\n",
    "xco2_ann = '/ptmp/jwb/RAW/2XCO2/atmos.0401-0500.t_ref_min.nc'\n",
    "\n",
    "#Processed data for analysis\n",
    "cntl_proc = {}\n",
    "xco2_proc = {}\n",
    "for key,value in days.iteritems():\n",
    "    cntl_proc[key] = '/vftmp/Jane.Baldwin/STEP/SYN_FIX/tn90pct_heatwaves_FLOR_Control_90pct_400yr_rNone_'+value+'_yearly_summer.nc'\n",
    "    xco2_proc[key] = '/vftmp/Jane.Baldwin/STEP/SYN_FIX/tn90pct_heatwaves_FLOR_2XCO2_90pct_400yr_rNone_'+value+'_yearly_summer.nc'"
   ]
  },
  {
   "cell_type": "code",
   "execution_count": 4,
   "metadata": {
    "collapsed": false
   },
   "outputs": [],
   "source": [
    "#CALCULATE SIGNAL, VAR, AUTOCORR\n",
    "\n",
    "#Signal of climate change (2XCO2-CONTROL annual mean warming at each location)\n",
    "#cdo.timmean(input='-sub %s %s' %(xco2_ann,cntl_ann), options='-f nc', returnCdf=True, output='signal.nc')\n",
    "\n",
    "#Calculate Daily Climatology\n",
    "#cdo.ydaymean(input='%s' %(cntl_raw), options='-f nc', returnCdf=True, output='cntlclim.nc')\n",
    "\n",
    "#Calculate Daily Anomalies\n",
    "#cdo.ydaysub(input='%s %s' %(cntl_raw,'cntlclim.nc'), options='-f nc', returnCdf=True, output='cntlanom.nc')\n",
    "\n",
    "#Amplitude of temperature variation (standard deviation of the raw temp data)\n",
    "#cdo.timstd(input='-seldate,0401-01-01,0495-12-31 %s' %('cntlanom.nc'), options='-f nc', returnCdf=True, output='anom_amplitude.nc')\n",
    "\n",
    "#Autocorrelation of temperature variation (r1 autocorrelation)\n",
    "#cdo.timcor(input='-seldate,0401-01-04,0495-12-28 %s -seldate,0401-01-04,0495-12-28 -shifttime,1day %s' %('cntlanom.nc','cntlanom.nc'), options='-f nc', returnCdf=True, output='autocorr.nc')\n",
    "#cdo.timcor(input='-seldate,0401-01-04,0495-12-28 %s -seldate,0401-01-04,0495-12-28 -shifttime,2day %s' %('cntlanom.nc','cntlanom.nc'), options='-f nc', returnCdf=True, output='autocorr2.nc')\n",
    "#cdo.timcor(input='-seldate,0401-01-04,0495-12-28 %s -seldate,0401-01-04,0495-12-28 -shifttime,3day %s' %('cntlanom.nc','cntlanom.nc'), options='-f nc', returnCdf=True, output='autocorr3.nc')\n"
   ]
  },
  {
   "cell_type": "code",
   "execution_count": 5,
   "metadata": {
    "collapsed": false
   },
   "outputs": [],
   "source": [
    "#DERIVATIVE VARIABLES\n",
    "#os.chdir('/vftmp/Jane.Baldwin/STEP/')\n",
    "\n",
    "#Change in compound proportion\n",
    "cntl_proc_dat = {}\n",
    "cntl_ahw2f = {}\n",
    "cntl_ahwf = {}\n",
    "cntl_cp = {}\n",
    "xco2_proc_dat = {}\n",
    "xco2_ahw2f = {}\n",
    "xco2_ahwf = {}\n",
    "xco2_cp = {}\n",
    "dp = {}\n",
    "\n",
    "for key, value in days.iteritems():\n",
    "    cntl_proc_dat[key] = Dataset(cntl_proc[key], 'r')\n",
    "    cntl_ahw2f[key] = np.squeeze(cntl_proc_dat[key]['AHW2F_tn90pct'][:])\n",
    "    cntl_ahwf[key] = np.squeeze(cntl_proc_dat[key]['AHWF_tn90pct'][:])\n",
    "    cntl_cp[key] = np.mean(cntl_ahw2f[key]/cntl_ahwf[key],axis=0)\n",
    "    xco2_proc_dat[key] = Dataset(xco2_proc[key], 'r')\n",
    "    xco2_ahw2f[key] = np.squeeze(xco2_proc_dat[key]['AHW2F_tn90pct'][:])\n",
    "    xco2_ahwf[key] = np.squeeze(xco2_proc_dat[key]['AHWF_tn90pct'][:])\n",
    "    xco2_cp[key] = np.mean(xco2_ahw2f[key]/xco2_ahwf[key],axis=0)\n",
    "    dp[key] = xco2_cp[key] - cntl_cp[key]\n",
    "\n",
    "#Standard deviation over mean warming signal\n",
    "am = np.squeeze(Dataset('anom_amplitude.nc','r')['t_ref_min'][:])\n",
    "si = np.squeeze(Dataset('signal.nc','r')['t_ref_min'][:])\n",
    "amsi = am/si\n",
    "\n",
    "#Lag 1-day autorcorrelation\n",
    "cor = np.squeeze(Dataset('autocorr.nc','r')['t_ref_min'][:])"
   ]
  },
  {
   "cell_type": "code",
   "execution_count": 6,
   "metadata": {
    "collapsed": true
   },
   "outputs": [],
   "source": [
    "#Define radial basis function interpolation function\n",
    "def corvar_rbf(nd,cor,amsi):\n",
    "    os.chdir('/vftmp/Jane.Baldwin/')\n",
    "    \n",
    "    mask=~np.array(nd.mask) #might need to change to ndch for some compound (like 3336)\n",
    "    nd=nd[mask]\n",
    "    cor=cor[mask]\n",
    "    amsi=amsi[mask]\n",
    "\n",
    "    x = cor #np.random.rand(sz)*4.0-2.0\n",
    "    y = amsi#np.random.rand(sz)*4.0-2.0\n",
    "    z = nd #x*np.exp(-x**2-y**2)\n",
    "    ngrid = 100\n",
    "    tx = np.linspace(0,1,ngrid)\n",
    "    ty=np.linspace(0,10,ngrid)\n",
    "    XI, YI = np.meshgrid(tx, ty)\n",
    "    sz=x.shape[0]\n",
    "\n",
    "    # use RBF\n",
    "    n=20\n",
    "    rands=5000\n",
    "    ZI = np.zeros((n,np.shape(XI)[0],np.shape(XI)[1]))\n",
    "    for i in range(0,n):\n",
    "        samp = np.array(random.sample(zip(x,y,z),rands))\n",
    "        rbfi= Rbf(samp[:,0],samp[:,1],samp[:,2],function='linear')\n",
    "        ZI[i,...] = rbfi(XI,YI)\n",
    "    \n",
    "    dist=np.zeros((ngrid,ngrid))\n",
    "    \n",
    "    for i in range(ngrid):\n",
    "        for j in range(ngrid):\n",
    "            dist[i,j]=np.min((np.square(x-XI[i,j])+np.square((y-YI[i,j])/10))/2)\n",
    "    maskd=(dist>0.00001)\n",
    "    ZIm=np.mean(ZI,axis=0)\n",
    "    ZImma = np.ma.masked_where(dist>0.0001,ZIm)\n",
    "    return XI,YI,ZImma"
   ]
  },
  {
   "cell_type": "code",
   "execution_count": 7,
   "metadata": {
    "collapsed": false
   },
   "outputs": [],
   "source": [
    "#Perform the Radial Basis Function Interpolation\n",
    "XI1 = {}\n",
    "YI1 = {}\n",
    "ZImma1 = {}\n",
    "for key, value in days.iteritems():\n",
    "    XI1[key],YI1[key],ZImma1[key] = corvar_rbf(dp[key],cor,amsi)"
   ]
  },
  {
   "cell_type": "code",
   "execution_count": 9,
   "metadata": {
    "collapsed": false
   },
   "outputs": [
    {
     "data": {
      "image/png": "[encoded data removed]",
      "text/plain": [
       "<matplotlib.figure.Figure at 0x2b5a83b7a250>"
      ]
     },
     "metadata": {},
     "output_type": "display_data"
    }
   ],
   "source": [
    "#Figure\n",
    "fig = plt.figure(figsize=(20,4))\n",
    "plt.rcParams.update({'font.size': 12})\n",
    "\n",
    "fig = plt.subplot(1,3,1)\n",
    "plt.pcolor(XI1['def1'],YI1['def1'],ZImma1['def1']*100,cmap=cm.jet,vmin=0,vmax=100)\n",
    "plt.colorbar()\n",
    "#plt.figtext(.2, .8, 'mean=%.2f'%np.mean(dp*100),fontsize=18)\n",
    "plt.xlabel('Lag 1-day Autocorrelation')\n",
    "plt.ylabel('[Standard Dev.]/[Mean Warming Signal]')\n",
    "#plt.title('Tn 90th '+day)\n",
    "plt.ylim([0,2.5])\n",
    "#plt.savefig('corrvvar'+day+'.pdf',bbox_inches='tight')\n",
    "plt.title(days['def1'][0:3])\n",
    "\n",
    "fig = plt.subplot(1,3,2)\n",
    "plt.pcolor(XI1['def2'],YI1['def2'],ZImma1['def2']*100,cmap=cm.jet,vmin=0,vmax=100)\n",
    "plt.colorbar()\n",
    "#plt.figtext(.2, .8, 'mean=%.2f'%np.mean(dp*100),fontsize=18)\n",
    "plt.xlabel('Lag 1-day Autocorrelation')\n",
    "plt.ylabel('[Standard Dev.]/[Mean Warming Signal]')\n",
    "#plt.title('Tn 90th '+day)\n",
    "plt.ylim([0,2.5])\n",
    "#plt.savefig('corrvvar'+day+'.pdf',bbox_inches='tight')\n",
    "plt.title(days['def2'][0:3])\n",
    "\n",
    "fig = plt.subplot(1,3,3)\n",
    "plt.pcolor(XI1['def3'],YI1['def3'],ZImma1['def3']*100,cmap=cm.jet,vmin=0,vmax=100)\n",
    "plt.colorbar()\n",
    "#plt.figtext(.2, .8, 'mean=%.2f'%np.mean(dp*100),fontsize=18)\n",
    "plt.xlabel('Lag 1-day Autocorrelation')\n",
    "plt.ylabel('[Standard Dev.]/[Mean Warming Signal]')\n",
    "#plt.title('Tn 90th '+day)\n",
    "plt.ylim([0,2.5])\n",
    "plt.title(days['def3'][0:3])\n",
    "\n",
    "plt.savefig('corrvvar3def.pdf',bbox_inches='tight')\n",
    "\n",
    "plt.show()"
   ]
  }
 ],
 "metadata": {
  "kernelspec": {
   "display_name": "Python 2",
   "language": "python",
   "name": "python2"
  },
  "language_info": {
   "codemirror_mode": {
    "name": "ipython",
    "version": 2
   },
   "file_extension": ".py",
   "mimetype": "text/x-python",
   "name": "python",
   "nbconvert_exporter": "python",
   "pygments_lexer": "ipython2",
   "version": "2.7.11"
  }
 },
 "nbformat": 4,
 "nbformat_minor": 0
}
