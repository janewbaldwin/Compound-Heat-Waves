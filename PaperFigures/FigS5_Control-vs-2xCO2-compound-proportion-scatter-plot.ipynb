{
 "cells": [
  {
   "cell_type": "code",
   "execution_count": 31,
   "metadata": {
    "collapsed": false
   },
   "outputs": [
    {
     "name": "stdout",
     "output_type": "stream",
     "text": [
      "Once deleted, variables cannot be recovered. Proceed (y/[n])? y\n"
     ]
    }
   ],
   "source": [
    "reset"
   ]
  },
  {
   "cell_type": "code",
   "execution_count": 32,
   "metadata": {
    "collapsed": false
   },
   "outputs": [],
   "source": [
    "# -*- coding: utf-8 -*-\n",
    "\"\"\"\n",
    "Created on Tue Jun 14 14:43:31 2016\n",
    "\n",
    "@author: tweetybaldwin\n",
    "\"\"\"\n",
    "\n",
    "# -*- coding: utf-8 -*-\n",
    "\"\"\"\n",
    "Created on Tue Jun 14 12:37:02 2016\n",
    "\n",
    "@author: tweetybaldwin\n",
    "\"\"\"\n",
    "from optparse import OptionParser\n",
    "import numpy as np\n",
    "import matplotlib.pyplot as plt\n",
    "import matplotlib.lines as mlines\n",
    "import matplotlib.patches as mpatches\n",
    "from netCDF4 import Dataset, MFDataset\n",
    "import os\n",
    "\n",
    "os.chdir(\"/vftmp/Jane.Baldwin/STEP/SYN_FIX/\")\n",
    "#plt.close(\"all\")"
   ]
  },
  {
   "cell_type": "code",
   "execution_count": 33,
   "metadata": {
    "collapsed": false
   },
   "outputs": [],
   "source": [
    "#MASK\n",
    "file = 'tx90pct_heatwaves_FLOR_Control_90pct_400yr_rNone_1112_yearly_summer.nc'\n",
    "mask = Dataset(file, 'r')\n",
    "\n",
    "lats = mask.variables['lat'][:]\n",
    "lons = mask.variables['lon'][:]\n",
    "\n",
    "lat_s = -90\n",
    "lat_n = 90\n",
    "lon_w = 0\n",
    "lon_e = 360\n",
    "\n",
    "lats = np.transpose(np.tile(lats,(lons.shape[0],1)))\n",
    "weights = np.cos(np.deg2rad(lats))\n",
    "lons = np.tile(lons,(lats.shape[0],1))\n",
    "lats_mask = np.logical_and(lats >= lat_s, lats <= lat_n)\n",
    "lons_mask = np.logical_and(lons >= lon_w, lons <= lon_e)\n",
    "reg_mask = lats_mask*lons_mask"
   ]
  },
  {
   "cell_type": "code",
   "execution_count": 34,
   "metadata": {
    "collapsed": false
   },
   "outputs": [
    {
     "data": {
      "text/plain": [
       "(-100, 30000)"
      ]
     },
     "execution_count": 34,
     "metadata": {},
     "output_type": "execute_result"
    }
   ],
   "source": [
    "#SET UP PLOT\n",
    "\n",
    "fig, ((ax1,ax2),(ax3,ax4))=plt.subplots(2,2)\n",
    "\n",
    "ax1.set_title('Proportion Compound Days')\n",
    "ax1.set_xlabel('Control [%]')\n",
    "ax1.set_ylabel('2xCO2 [%]')\n",
    "ax1.set_yscale('linear')\n",
    "ax1.set_ylim((0,70))\n",
    "ax1.set_xlim((0,40))\n",
    "\n",
    "ax2.set_title('Proportion Compound Days')\n",
    "ax2.set_xlabel('Control [%]')\n",
    "ax2.set_ylabel('2xCO2 [%]')\n",
    "ax2.set_yscale('linear')\n",
    "ax2.set_ylim((0,100))\n",
    "ax2.set_xlim((0,100))\n",
    "\n",
    "ax3.set_title('Absolute Change')\n",
    "ax3.set_ylabel('2xCO2-Control [Days]')\n",
    "ax3.set_xlabel('Control')\n",
    "ax3.set_yscale('linear')\n",
    "ax3.set_xlim((0,60))\n",
    "ax3.set_ylim((0,60))\n",
    "\n",
    "ax4.set_title('Percent Change')\n",
    "ax4.set_ylabel('2xCO2-Control [%]')\n",
    "ax4.set_xlabel('Control [Days]')\n",
    "ax4.set_yscale('linear')\n",
    "ax4.set_xlim((0,60))\n",
    "ax4.set_ylim((-100,30000))\n"
   ]
  },
  {
   "cell_type": "code",
   "execution_count": 35,
   "metadata": {
    "collapsed": false
   },
   "outputs": [],
   "source": [
    "#FUNCTION FOR SYN DATA\n",
    "def synscatter(mn,thres,days,color,mark):\n",
    "    \n",
    "    cntlfile = 't'+mn+thres+'pct_heatwaves_FLOR_Control_'+thres+'pct_400yr_rNone_'+days+'_yearly_summer.nc'\n",
    "    x2file = 't'+mn+thres+'pct_heatwaves_FLOR_2XCO2_'+thres+'pct_400yr_rNone_'+days+'_yearly_summer.nc'\n",
    "    synfile = 't'+mn+thres+'pct_heatwaves_FLOR_XYTave_'+thres+'pct_400yr_rNone_'+days+'_yearly_summer.nc'\n",
    "    \n",
    "    head = cntlfile[0:7]\n",
    "    cntl = Dataset(cntlfile, 'r')\n",
    "    x2 = Dataset(x2file, 'r')\n",
    "    syn = Dataset(synfile,'r')\n",
    "    \n",
    "    ah_cntl = cntl.variables['AHWF_'+head][:]\n",
    "    h1_cntl = cntl.variables['AHW1F_'+head][:]\n",
    "    h2_cntl = cntl.variables['AHW2F_'+head][:]\n",
    "    #h_cntl = cntl.variables['HWF_'+head][:]\n",
    "    ah_2x = x2.variables['AHWF_'+head][:]\n",
    "    h1_2x = x2.variables['AHW1F_'+head][:]\n",
    "    h2_2x = x2.variables['AHW2F_'+head][:]\n",
    "    #h_2x = x2.variables['HWF_'+head][:]\n",
    "    ah_syn = syn.variables['AHWF_'+head][:]\n",
    "    h1_syn = syn.variables['AHW1F_'+head][:]\n",
    "    h2_syn = syn.variables['AHW2F_'+head][:]\n",
    "    #h_syn = syn.variables['HWF_'+head][:]                                \n",
    "    \n",
    "    ah0 = np.ma.average(np.mean(ah_cntl,axis=0)[reg_mask], weights = weights[reg_mask])\n",
    "    h10 = np.ma.average(np.mean(h1_cntl,axis=0)[reg_mask], weights = weights[reg_mask])\n",
    "    h20 = np.ma.average(np.mean(h2_cntl,axis=0)[reg_mask], weights = weights[reg_mask])\n",
    "    \n",
    "    ah = np.ma.average(np.mean(ah_2x,axis=0)[reg_mask], weights=weights[reg_mask])\n",
    "    h1 = np.ma.average(np.mean(h1_2x,axis=0)[reg_mask], weights=weights[reg_mask])\n",
    "    h2 = np.ma.average(np.mean(h2_2x,axis=0)[reg_mask], weights = weights[reg_mask])\n",
    "    \n",
    "    ahs = np.ma.average(np.mean(ah_syn,axis=0)[reg_mask], weights=weights[reg_mask])\n",
    "    h1s = np.ma.average(np.mean(h1_syn,axis=0)[reg_mask], weights=weights[reg_mask])\n",
    "    h2s = np.ma.average(np.mean(h2_syn,axis=0)[reg_mask], weights = weights[reg_mask])\n",
    "    \n",
    "    cp_cntl = (h20/ah0)*100\n",
    "    cp_2x = (h2/ah)*100\n",
    "    cp_syn = (h2s/ahs)*100\n",
    "    \n",
    "    dh1 = h1-h10\n",
    "    dh2 = h2-h20\n",
    "    dh1p = (h1-h10)/h10*100\n",
    "    dh2p = (h2-h20)/h20*100\n",
    "    \n",
    "    ax1.scatter(cp_cntl,cp_2x,c=color,s=100,marker=mark)\n",
    "    ax1.annotate(cntlfile[49:52],(cp_cntl,cp_2x))\n",
    "    \n",
    "   # ax2.scatter(cp_cntl,cp_2x,c='k',s=250,marker='x')\n",
    "   # ax2.scatter(cp_cntl,cp_syn,c='m',s=250,marker='x')\n",
    "    \n",
    "   # ax3.scatter(h1,dh1,c=color,s=250,marker='o')\n",
    "   # ax3.scatter(h2,dh2,c=color,s=250,marker='*')\n",
    "    \n",
    "   # ax4.scatter(h1,dh1p,c=color,s=250,marker='o')\n",
    "   # ax4.scatter(h2,dh2p,c=color,s=250,marker='*')"
   ]
  },
  {
   "cell_type": "code",
   "execution_count": 36,
   "metadata": {
    "collapsed": false
   },
   "outputs": [],
   "source": [
    "#T-max, 90\n",
    "synscatter('x','90','1112','r','o')\n",
    "synscatter('x','90','1212','r','o')\n",
    "synscatter('x','90','1312','r','o')\n",
    "synscatter('x','90','3136','r','o')\n",
    "synscatter('x','90','3236','r','o')\n",
    "synscatter('x','90','3336','r','o')\n",
    "synscatter('x','90','61612','r','o')\n",
    "synscatter('x','90','62612','r','o')\n",
    "synscatter('x','90','63612','r','o')\n",
    "synscatter('x','90','3114','r','o')\n",
    "synscatter('x','90','3214','r','o')\n",
    "synscatter('x','90','3314','r','o')\n",
    "synscatter('x','90','6117','r','o')\n",
    "synscatter('x','90','6217','r','o')"
   ]
  },
  {
   "cell_type": "code",
   "execution_count": 37,
   "metadata": {
    "collapsed": false
   },
   "outputs": [],
   "source": [
    "#T-max,95\n",
    "\n",
    "synscatter('x','95','1112','r','*')\n",
    "synscatter('x','95','1212','r','*')\n",
    "synscatter('x','95','1312','r','*')\n",
    "synscatter('x','95','3136','r','*')\n",
    "synscatter('x','95','3236','r','*')\n",
    "synscatter('x','95','3336','r','*')\n",
    "synscatter('x','95','61612','r','*')\n",
    "synscatter('x','95','62612','r','*')\n",
    "synscatter('x','95','63612','r','*')\n",
    "synscatter('x','95','3114','r','*')\n",
    "synscatter('x','95','3214','r','*')\n",
    "synscatter('x','95','3314','r','*')\n",
    "synscatter('x','95','6117','r','*')\n",
    "synscatter('x','95','6217','r','*')"
   ]
  },
  {
   "cell_type": "code",
   "execution_count": 38,
   "metadata": {
    "collapsed": false
   },
   "outputs": [],
   "source": [
    "#T-min, 90\n",
    "\n",
    "synscatter('n','90','1112','b','o')\n",
    "synscatter('n','90','1212','b','o')\n",
    "synscatter('n','90','1312','b','o')\n",
    "synscatter('n','90','3136','b','o')\n",
    "synscatter('n','90','3236','b','o')\n",
    "synscatter('n','90','3336','b','o')\n",
    "synscatter('n','90','61612','b','o')\n",
    "synscatter('n','90','62612','b','o')\n",
    "synscatter('n','90','63612','b','o')\n",
    "synscatter('n','90','3114','b','o')\n",
    "synscatter('n','90','3214','b','o')\n",
    "synscatter('n','90','3314','b','o')\n",
    "synscatter('n','90','6117','b','o')\n",
    "synscatter('n','90','6217','b','o')"
   ]
  },
  {
   "cell_type": "code",
   "execution_count": 39,
   "metadata": {
    "collapsed": false
   },
   "outputs": [],
   "source": [
    "#T-min, 95\n",
    "\n",
    "synscatter('n','95','1112','b','*')\n",
    "synscatter('n','95','1212','b','*')\n",
    "synscatter('n','95','1312','b','*')\n",
    "synscatter('n','95','3136','b','*')\n",
    "synscatter('n','95','3236','b','*')\n",
    "synscatter('n','95','3336','b','*')\n",
    "synscatter('n','95','61612','b','*')\n",
    "synscatter('n','95','62612','b','*')\n",
    "synscatter('n','95','63612','b','*')\n",
    "synscatter('n','95','3114','b','*')\n",
    "synscatter('n','95','3214','b','*')\n",
    "synscatter('n','95','3314','b','*')\n",
    "synscatter('n','95','6117','b','*')\n",
    "synscatter('n','95','6217','b','*')"
   ]
  },
  {
   "cell_type": "code",
   "execution_count": 40,
   "metadata": {
    "collapsed": false
   },
   "outputs": [],
   "source": [
    "ax1.plot([0,100],[0,100],'k')\n",
    "ax2.plot([0,100],[0,100],'k')\n",
    "fig = plt.gcf()\n",
    "fig.set_size_inches(13,12,forward=True)\n",
    "plt.show()\n",
    "fig.savefig('amspres2016_scatter.pdf')"
   ]
  }
 ],
 "metadata": {
  "kernelspec": {
   "display_name": "Python 2",
   "language": "python",
   "name": "python2"
  },
  "language_info": {
   "codemirror_mode": {
    "name": "ipython",
    "version": 2
   },
   "file_extension": ".py",
   "mimetype": "text/x-python",
   "name": "python",
   "nbconvert_exporter": "python",
   "pygments_lexer": "ipython2",
   "version": "2.7.11"
  }
 },
 "nbformat": 4,
 "nbformat_minor": 0
}
